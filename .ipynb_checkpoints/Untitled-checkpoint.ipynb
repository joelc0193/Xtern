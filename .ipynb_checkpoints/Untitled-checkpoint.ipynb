{
 "cells": [
  {
   "cell_type": "code",
   "execution_count": null,
   "metadata": {},
   "outputs": [],
   "source": [
    "import pandas as pd"
   ]
  },
  {
   "cell_type": "code",
   "execution_count": null,
   "metadata": {},
   "outputs": [],
   "source": [
    "df1=pd.read_csv(\"/home/joel/Downloads/checkin_dataset.csv\")"
   ]
  },
  {
   "cell_type": "code",
   "execution_count": null,
   "metadata": {},
   "outputs": [],
   "source": [
    "a=df1['xcoordinate'].tolist()\n",
    "b=df1['ycoordinate'].tolist()\n",
    "c=df1['timestamp'].tolist()\n",
    "d=df1['user'].tolist()"
   ]
  },
  {
   "cell_type": "code",
   "execution_count": null,
   "metadata": {},
   "outputs": [],
   "source": [
    "master=[]\n",
    "for i, xcoord in enumerate(a):\n",
    "    master.append((a[i],b[i],c[i],d[i]))"
   ]
  },
  {
   "cell_type": "code",
   "execution_count": null,
   "metadata": {},
   "outputs": [],
   "source": [
    "master_dict={}\n",
    "for i1, coords1 in enumerate(master):\n",
    "    lis_timestamps=[]\n",
    "    xcoords=0\n",
    "    ycoords=0\n",
    "    coords_found=0\n",
    "    if not coords1==0:\n",
    "        for i2, coords2 in enumerate(master):\n",
    "            if not coords2==0:\n",
    "                length=.05\n",
    "                if coords2[0]-length<coords1[0] and coords2[0]+length>coords1[0] and coords2[1]+length>coords1[1] and coords2[1]-length<coords1[1]:\n",
    "                    lis_timestamps.append(coords2[2])\n",
    "                    xcoords+=coords2[0]\n",
    "                    ycoords+=coords2[1]\n",
    "                    coords_found+=1\n",
    "                    master[i2]=0\n",
    "        xcoords=xcoords/coords_found\n",
    "        ycoords=ycoords/coords_found\n",
    "        master_dict[(xcoords, ycoords)]=lis_timestamps"
   ]
  },
  {
   "cell_type": "code",
   "execution_count": null,
   "metadata": {},
   "outputs": [],
   "source": [
    "for key in master_dict:\n",
    "    frequency_dict={}\n",
    "    master_dict[key]=pd.to_datetime(master_dict[key], format=\"%Y-%m-%d %H:%M:%S\").sort_values()\n",
    "    for timestamp in master_dict[key]:\n",
    "        day=timestamp.dayofweek\n",
    "        if not day in frequency_dict.keys():\n",
    "            frequency_dict[day]=1\n",
    "        else:\n",
    "            frequency_dict[day]+=1\n",
    "    master_dict[key]=[master_dict[key],frequency_dict]\n",
    "\n",
    "for i, key in enumerate(master_dict):\n",
    "    if i==0:\n",
    "        print(master_dict[key])"
   ]
  },
  {
   "cell_type": "code",
   "execution_count": null,
   "metadata": {},
   "outputs": [],
   "source": [
    "for key in master_dict:\n",
    "    max_key=None\n",
    "    max_value=0\n",
    "    for key1 in master_dict[key][1]:\n",
    "        if master_dict[key][1][key1]>max_value:\n",
    "            max_value=master_dict[key][1][key1]\n",
    "            max_key=key1\n",
    "    master_dict[key].append((max_key, max_value))\n",
    "\n",
    "for i, key in enumerate(master_dict):\n",
    "    if i==0:\n",
    "        print(master_dict[key])\n"
   ]
  },
  {
   "cell_type": "code",
   "execution_count": null,
   "metadata": {},
   "outputs": [],
   "source": [
    "for key in master_dict:\n",
    "    frequency_dict={}\n",
    "    for timestamps in master_dict[key][0]:\n",
    "        hour=timestamp.hour\n",
    "        print ('hour')\n",
    "        if not hour in frequency_dict.keys():\n",
    "            frequency_dict[hour]=1\n",
    "        else:\n",
    "            frequency_dict[hour]+=1\n"
   ]
  },
  {
   "cell_type": "code",
   "execution_count": null,
   "metadata": {},
   "outputs": [],
   "source": []
  },
  {
   "cell_type": "code",
   "execution_count": null,
   "metadata": {},
   "outputs": [],
   "source": []
  }
 ],
 "metadata": {
  "kernelspec": {
   "display_name": "Python 2",
   "language": "python",
   "name": "python2"
  },
  "language_info": {
   "codemirror_mode": {
    "name": "ipython",
    "version": 2
   },
   "file_extension": ".py",
   "mimetype": "text/x-python",
   "name": "python",
   "nbconvert_exporter": "python",
   "pygments_lexer": "ipython2",
   "version": "2.7.12"
  }
 },
 "nbformat": 4,
 "nbformat_minor": 2
}
