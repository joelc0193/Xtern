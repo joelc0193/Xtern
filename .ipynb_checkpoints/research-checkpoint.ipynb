{
 "cells": [
  {
   "cell_type": "code",
   "execution_count": 1,
   "metadata": {},
   "outputs": [],
   "source": [
    "import pandas as pd"
   ]
  },
  {
   "cell_type": "code",
   "execution_count": 20,
   "metadata": {},
   "outputs": [],
   "source": [
    "df1=pd.read_csv(\"/home/joel/Downloads/checkin_dataset.csv\")"
   ]
  },
  {
   "cell_type": "markdown",
   "metadata": {},
   "source": [
    "## Importing data\n",
    "Here I import the data from the CVS into a dictionary"
   ]
  },
  {
   "cell_type": "code",
   "execution_count": 28,
   "metadata": {},
   "outputs": [],
   "source": [
    "a=df1['xcoordinate'].tolist()\n",
    "b=df1['ycoordinate'].tolist()\n",
    "c=df1['timestamp'].tolist()\n",
    "d=df1['user'].tolist()\n",
    "\n",
    "master=[]\n",
    "for i, xcoord in enumerate(a):\n",
    "    master.append((a[i],b[i],c[i],d[i]))"
   ]
  },
  {
   "cell_type": "markdown",
   "metadata": {},
   "source": [
    "## Establishing locations\n",
    "Here, I assume that locations that have the same x and y coords, plus or minus .05, are the same locations. Thus, I group the timestamps of those locations together for to further aanlyze them later. I also take the average of the scattered locations to establish one central location."
   ]
  },
  {
   "cell_type": "code",
   "execution_count": 29,
   "metadata": {},
   "outputs": [],
   "source": [
    "master_dict={}\n",
    "for i1, coords1 in enumerate(master):\n",
    "    lis_timestamps=[]\n",
    "    xcoords=0\n",
    "    ycoords=0\n",
    "    coords_found=0\n",
    "    if not coords1==0:\n",
    "        for i2, coords2 in enumerate(master):\n",
    "            if not coords2==0:\n",
    "                length=.05\n",
    "                if coords2[0]-length<coords1[0] and coords2[0]+length>coords1[0] and coords2[1]+length>coords1[1] and coords2[1]-length<coords1[1]:\n",
    "                    lis_timestamps.append(coords2[2])\n",
    "                    xcoords+=coords2[0]\n",
    "                    ycoords+=coords2[1]\n",
    "                    coords_found+=1\n",
    "                    master[i2]=0\n",
    "        xcoords=xcoords/coords_found\n",
    "        ycoords=ycoords/coords_found\n",
    "        master_dict[(xcoords, ycoords)]=lis_timestamps"
   ]
  },
  {
   "cell_type": "markdown",
   "metadata": {},
   "source": [
    "## Finding frequency of events per day of week\n",
    "Here I find how many events were registered for each location for each day of the week"
   ]
  },
  {
   "cell_type": "code",
   "execution_count": 30,
   "metadata": {},
   "outputs": [],
   "source": [
    "for key in master_dict:\n",
    "    frequency_dict={}\n",
    "    master_dict[key]=pd.to_datetime(master_dict[key], format=\"%Y-%m-%d %H:%M:%S\").sort_values()\n",
    "    for timestamp in master_dict[key]:\n",
    "        day=timestamp.dayofweek\n",
    "        if not day in frequency_dict.keys():\n",
    "            frequency_dict[day]=1\n",
    "        else:\n",
    "            frequency_dict[day]+=1\n",
    "    master_dict[key]=[master_dict[key],frequency_dict]"
   ]
  },
  {
   "cell_type": "markdown",
   "metadata": {},
   "source": [
    "## Finding most active day\n",
    "Here I find the most active day of the week for each site"
   ]
  },
  {
   "cell_type": "code",
   "execution_count": 31,
   "metadata": {},
   "outputs": [],
   "source": [
    "for key in master_dict:\n",
    "    max_key=None\n",
    "    max_value=0\n",
    "    for key1 in master_dict[key][1]:\n",
    "        if master_dict[key][1][key1]>max_value:\n",
    "            max_value=master_dict[key][1][key1]\n",
    "            max_key=key1\n",
    "    master_dict[key].append([max_key, max_value])"
   ]
  },
  {
   "cell_type": "markdown",
   "metadata": {},
   "source": [
    "## Finding frequency of events per hour of most active day of week\n",
    "Here I find how many events were registered for each hour of the most active day of each site"
   ]
  },
  {
   "cell_type": "code",
   "execution_count": 32,
   "metadata": {},
   "outputs": [],
   "source": [
    "for key in master_dict:\n",
    "    frequency_dict={}\n",
    "    for timestamp in master_dict[key][0]:\n",
    "        if timestamp.dayofweek==master_dict[key][2][0]:\n",
    "            hour=timestamp.hour\n",
    "            if not hour in frequency_dict.keys():\n",
    "                frequency_dict[hour]=1\n",
    "            else:\n",
    "                frequency_dict[hour]+=1\n",
    "    master_dict[key].append(frequency_dict)\n",
    "\n",
    "weekdays=['Sundays','Mondays', 'Tuesdays', 'Wednesdays', 'Thursdays', 'Fridays', 'Saturdays']\n",
    "for key in master_dict:\n",
    "    master_dict[key][2][0]=weekdays[master_dict[key][2][0]-1]"
   ]
  },
  {
   "cell_type": "markdown",
   "metadata": {},
   "source": [
    "## Finding most active hour of most active day\n",
    "Here I find the most active hour of the most active day for each site"
   ]
  },
  {
   "cell_type": "code",
   "execution_count": 33,
   "metadata": {},
   "outputs": [],
   "source": [
    "for key in master_dict:\n",
    "    max_key=None\n",
    "    max_value=0\n",
    "    for key1 in master_dict[key][3]:\n",
    "        if master_dict[key][3][key1]>max_value:\n",
    "            max_value=master_dict[key][3][key1]\n",
    "            max_key=key1\n",
    "    master_dict[key].append([max_key, max_value])"
   ]
  },
  {
   "cell_type": "markdown",
   "metadata": {},
   "source": [
    "## Displaying information\n",
    "Finally, I display all the information"
   ]
  },
  {
   "cell_type": "code",
   "execution_count": 34,
   "metadata": {},
   "outputs": [
    {
     "name": "stdout",
     "output_type": "stream",
     "text": [
      "The location with x coordinates of 0.217950788733and y coordinates of -0.0408039760846 most often has events on Fridays during 0:00 o'clock.\n",
      "The location with x coordinates of -0.148562677076and y coordinates of 0.0488113348829 most often has events on Mondays during 16:00 o'clock.\n",
      "The location with x coordinates of 0.214189619529and y coordinates of -0.0720178383422 most often has events on Tuesdays during 11:00 o'clock.\n",
      "The location with x coordinates of -0.160729980572and y coordinates of -0.221262768542 most often has events on Sundays during 6:00 o'clock.\n",
      "The location with x coordinates of 0.973804990141and y coordinates of 0.732729176701 most often has events on Mondays during 2:00 o'clock.\n",
      "The location with x coordinates of 0.941357618692and y coordinates of 0.93622044158 most often has events on Saturdays during 11:00 o'clock.\n",
      "The location with x coordinates of 1.34130840443and y coordinates of 0.877407746706 most often has events on Fridays during 12:00 o'clock.\n",
      "The location with x coordinates of 0.923383172279and y coordinates of 0.864719340413 most often has events on Saturdays during 17:00 o'clock.\n",
      "The location with x coordinates of -0.121440092439and y coordinates of 0.327514803656 most often has events on Mondays during 20:00 o'clock.\n",
      "The location with x coordinates of -0.262577629217and y coordinates of 0.0240903261928 most often has events on Fridays during 3:00 o'clock.\n",
      "The location with x coordinates of 0.84164081574and y coordinates of 1.1623772496 most often has events on Saturdays during 16:00 o'clock.\n",
      "The location with x coordinates of 0.97718010979and y coordinates of 0.696905026764 most often has events on Tuesdays during 17:00 o'clock.\n",
      "The location with x coordinates of -0.0819489446885and y coordinates of -0.0862021635277 most often has events on Thursdays during 7:00 o'clock.\n",
      "The location with x coordinates of 1.30617019099and y coordinates of 0.866456039798 most often has events on Tuesdays during 18:00 o'clock.\n",
      "The location with x coordinates of 0.958188632351and y coordinates of 1.29571938198 most often has events on Tuesdays during 14:00 o'clock.\n",
      "The location with x coordinates of 0.785299552094and y coordinates of 0.58245640515 most often has events on Wednesdays during 14:00 o'clock.\n",
      "The location with x coordinates of 0.602296042208and y coordinates of 1.02937116398 most often has events on Thursdays during 23:00 o'clock.\n",
      "The location with x coordinates of 0.249347418717and y coordinates of -0.250208939019 most often has events on Mondays during 12:00 o'clock.\n",
      "The location with x coordinates of 0.225560290365and y coordinates of 0.131447520121 most often has events on Saturdays during 18:00 o'clock.\n",
      "The location with x coordinates of 0.754585034165and y coordinates of 0.584968136979 most often has events on Saturdays during 8:00 o'clock.\n",
      "The location with x coordinates of 0.370355949677and y coordinates of -0.128702612078 most often has events on Mondays during 3:00 o'clock.\n",
      "The location with x coordinates of 0.903532753146and y coordinates of 0.794674275799 most often has events on Saturdays during 16:00 o'clock.\n",
      "The location with x coordinates of 0.404974008826and y coordinates of 0.0618644605146 most often has events on Saturdays during 7:00 o'clock.\n",
      "The location with x coordinates of 1.16451547554and y coordinates of 1.32698147604 most often has events on Thursdays during 22:00 o'clock.\n",
      "The location with x coordinates of 0.941255223975and y coordinates of 0.897613492335 most often has events on Thursdays during 6:00 o'clock.\n"
     ]
    }
   ],
   "source": [
    "for key in master_dict:\n",
    "    print (\"The location with x coordinates of \" + str(key[0]) + \"and y coordinates of \" + str(key[1])+ \" most often has events on \" +master_dict[key][2][0]+\" during \"+str(master_dict[key][4][0])+\":00 o'clock.\")"
   ]
  }
 ],
 "metadata": {
  "kernelspec": {
   "display_name": "Python 2",
   "language": "python",
   "name": "python2"
  },
  "language_info": {
   "codemirror_mode": {
    "name": "ipython",
    "version": 2
   },
   "file_extension": ".py",
   "mimetype": "text/x-python",
   "name": "python",
   "nbconvert_exporter": "python",
   "pygments_lexer": "ipython2",
   "version": "2.7.12"
  }
 },
 "nbformat": 4,
 "nbformat_minor": 2
}
